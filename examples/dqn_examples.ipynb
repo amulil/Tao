{
 "cells": [
  {
   "cell_type": "code",
   "execution_count": 1,
   "id": "6e4ec736",
   "metadata": {},
   "outputs": [],
   "source": [
    "# !pip install -i https://test.pypi.org/simple/ tao\n",
    "# git clone \n",
    "# use tao lib from github repo\n",
    "import os\n",
    "import sys\n",
    "module_path = os.path.abspath(os.path.join('..'))\n",
    "if module_path not in sys.path:\n",
    "    sys.path.append(module_path)"
   ]
  },
  {
   "cell_type": "code",
   "execution_count": 2,
   "id": "5428dea7",
   "metadata": {},
   "outputs": [
    {
     "name": "stderr",
     "output_type": "stream",
     "text": [
      "/Users/yongxinwang/.pyenv/versions/3.8/envs/Tao/lib/python3.8/site-packages/torch/utils/tensorboard/__init__.py:4: DeprecationWarning: distutils Version classes are deprecated. Use packaging.version instead.\n",
      "  if not hasattr(tensorboard, \"__version__\") or LooseVersion(\n"
     ]
    }
   ],
   "source": [
    "from tao import DQN"
   ]
  },
  {
   "cell_type": "code",
   "execution_count": 3,
   "id": "c4946e33",
   "metadata": {},
   "outputs": [
    {
     "name": "stderr",
     "output_type": "stream",
     "text": [
      "/Users/yongxinwang/.pyenv/versions/3.8/envs/Tao/lib/python3.8/site-packages/gym/core.py:172: DeprecationWarning: \u001b[33mWARN: Function `env.seed(seed)` is marked as deprecated and will be removed in the future. Please use `env.reset(seed=seed) instead.\u001b[0m\n",
      "  deprecation(\n"
     ]
    },
    {
     "name": "stdout",
     "output_type": "stream",
     "text": [
      "global_step=28, episodic_return=29.0\n",
      "global_step=38, episodic_return=10.0\n",
      "global_step=52, episodic_return=14.0\n",
      "global_step=92, episodic_return=40.0\n",
      "global_step=101, episodic_return=9.0\n",
      "global_step=117, episodic_return=16.0\n",
      "global_step=134, episodic_return=17.0\n",
      "global_step=153, episodic_return=19.0\n",
      "global_step=218, episodic_return=65.0\n",
      "global_step=249, episodic_return=31.0\n",
      "global_step=274, episodic_return=25.0\n",
      "global_step=303, episodic_return=29.0\n",
      "global_step=331, episodic_return=28.0\n",
      "global_step=346, episodic_return=15.0\n",
      "global_step=364, episodic_return=18.0\n",
      "global_step=392, episodic_return=28.0\n",
      "global_step=425, episodic_return=33.0\n",
      "global_step=445, episodic_return=20.0\n",
      "global_step=496, episodic_return=51.0\n",
      "global_step=511, episodic_return=15.0\n",
      "global_step=550, episodic_return=39.0\n",
      "global_step=588, episodic_return=38.0\n",
      "global_step=648, episodic_return=60.0\n",
      "global_step=666, episodic_return=18.0\n",
      "global_step=709, episodic_return=43.0\n",
      "global_step=753, episodic_return=44.0\n",
      "global_step=778, episodic_return=25.0\n",
      "global_step=817, episodic_return=39.0\n",
      "global_step=836, episodic_return=19.0\n",
      "global_step=880, episodic_return=44.0\n",
      "global_step=916, episodic_return=36.0\n",
      "global_step=951, episodic_return=35.0\n",
      "global_step=998, episodic_return=47.0\n",
      "global_step=1037, episodic_return=39.0\n",
      "global_step=1076, episodic_return=39.0\n",
      "global_step=1174, episodic_return=98.0\n",
      "global_step=1207, episodic_return=33.0\n",
      "global_step=1268, episodic_return=61.0\n",
      "global_step=1311, episodic_return=43.0\n",
      "global_step=1353, episodic_return=42.0\n",
      "global_step=1427, episodic_return=74.0\n",
      "global_step=1469, episodic_return=42.0\n",
      "global_step=1494, episodic_return=25.0\n",
      "global_step=1580, episodic_return=86.0\n",
      "global_step=1690, episodic_return=110.0\n",
      "global_step=1712, episodic_return=22.0\n",
      "global_step=1762, episodic_return=50.0\n",
      "global_step=1859, episodic_return=97.0\n",
      "global_step=1956, episodic_return=97.0\n",
      "global_step=2016, episodic_return=60.0\n",
      "global_step=2065, episodic_return=49.0\n",
      "global_step=2240, episodic_return=175.0\n",
      "global_step=2281, episodic_return=41.0\n",
      "global_step=2390, episodic_return=109.0\n",
      "global_step=2446, episodic_return=56.0\n",
      "global_step=2593, episodic_return=147.0\n",
      "global_step=2681, episodic_return=88.0\n",
      "global_step=2715, episodic_return=34.0\n",
      "global_step=2766, episodic_return=51.0\n",
      "global_step=2819, episodic_return=53.0\n",
      "global_step=2855, episodic_return=36.0\n",
      "global_step=2897, episodic_return=42.0\n",
      "global_step=3002, episodic_return=105.0\n",
      "global_step=3053, episodic_return=51.0\n",
      "global_step=3089, episodic_return=36.0\n",
      "global_step=3250, episodic_return=161.0\n",
      "global_step=3293, episodic_return=43.0\n",
      "global_step=3341, episodic_return=48.0\n",
      "global_step=3620, episodic_return=279.0\n",
      "global_step=3670, episodic_return=50.0\n",
      "global_step=3729, episodic_return=59.0\n",
      "global_step=3798, episodic_return=69.0\n",
      "global_step=3838, episodic_return=40.0\n",
      "global_step=4338, episodic_return=500.0\n",
      "global_step=4379, episodic_return=41.0\n",
      "global_step=4471, episodic_return=92.0\n",
      "global_step=4522, episodic_return=51.0\n",
      "global_step=4578, episodic_return=56.0\n",
      "global_step=4655, episodic_return=77.0\n",
      "global_step=4699, episodic_return=44.0\n",
      "global_step=4796, episodic_return=97.0\n",
      "global_step=4862, episodic_return=66.0\n",
      "global_step=4901, episodic_return=39.0\n",
      "global_step=4965, episodic_return=64.0\n"
     ]
    }
   ],
   "source": [
    "# train \"CartPole-v1\" model\n",
    "agent = DQN(env_id=\"CartPole-v1\", total_timesteps=5000, track=False, capture_video=False)\n",
    "agent.learn()"
   ]
  },
  {
   "cell_type": "code",
   "execution_count": 4,
   "id": "5d5d6f7f",
   "metadata": {},
   "outputs": [
    {
     "name": "stderr",
     "output_type": "stream",
     "text": [
      "A.L.E: Arcade Learning Environment (version 0.7.4+069f8bd)\n",
      "[Powered by Stella]\n",
      "/Users/yongxinwang/.pyenv/versions/3.8/envs/Tao/lib/python3.8/site-packages/gym/utils/seeding.py:138: DeprecationWarning: \u001b[33mWARN: Function `hash_seed(seed, max_bytes)` is marked as deprecated and will be removed in the future. \u001b[0m\n",
      "  deprecation(\n",
      "/Users/yongxinwang/.pyenv/versions/3.8/envs/Tao/lib/python3.8/site-packages/gym/utils/seeding.py:175: DeprecationWarning: \u001b[33mWARN: Function `_bigint_from_bytes(bytes)` is marked as deprecated and will be removed in the future. \u001b[0m\n",
      "  deprecation(\n",
      "/Users/yongxinwang/.pyenv/versions/3.8/envs/Tao/lib/python3.8/site-packages/gym/utils/seeding.py:47: DeprecationWarning: \u001b[33mWARN: Function `rng.randint(low, [high, size, dtype])` is marked as deprecated and will be removed in the future. Please use `rng.integers(low, [high, size, dtype])` instead.\u001b[0m\n",
      "  deprecation(\n"
     ]
    },
    {
     "name": "stdout",
     "output_type": "stream",
     "text": [
      "global_step=140, episodic_return=1.0\n",
      "global_step=281, episodic_return=1.0\n",
      "global_step=420, episodic_return=1.0\n",
      "global_step=577, episodic_return=1.0\n",
      "global_step=686, episodic_return=0.0\n",
      "global_step=919, episodic_return=3.0\n",
      "global_step=1103, episodic_return=2.0\n",
      "global_step=1335, episodic_return=3.0\n",
      "global_step=1519, episodic_return=2.0\n",
      "global_step=1703, episodic_return=2.0\n",
      "global_step=1812, episodic_return=0.0\n",
      "global_step=1996, episodic_return=2.0\n"
     ]
    }
   ],
   "source": [
    "agent = DQN(env_id=\"BreakoutNoFrameskip-v4\", atari_env=True, total_timesteps=2000, track=False, capture_video=False)\n",
    "agent.learn()"
   ]
  },
  {
   "cell_type": "code",
   "execution_count": null,
   "id": "1945f393",
   "metadata": {},
   "outputs": [],
   "source": []
  }
 ],
 "metadata": {
  "kernelspec": {
   "display_name": "Python 3 (ipykernel)",
   "language": "python",
   "name": "python3"
  },
  "language_info": {
   "codemirror_mode": {
    "name": "ipython",
    "version": 3
   },
   "file_extension": ".py",
   "mimetype": "text/x-python",
   "name": "python",
   "nbconvert_exporter": "python",
   "pygments_lexer": "ipython3",
   "version": "3.8.16"
  }
 },
 "nbformat": 4,
 "nbformat_minor": 5
}
