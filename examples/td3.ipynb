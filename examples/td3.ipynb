{
 "cells": [
  {
   "cell_type": "code",
   "execution_count": 1,
   "id": "3d718074",
   "metadata": {},
   "outputs": [],
   "source": [
    "# !pip install -i https://test.pypi.org/simple/ tao\n",
    "# git clone \n",
    "# use tao lib from github repo\n",
    "import os\n",
    "import sys\n",
    "module_path = os.path.abspath(os.path.join('..'))\n",
    "if module_path not in sys.path:\n",
    "    sys.path.append(module_path)"
   ]
  },
  {
   "cell_type": "code",
   "execution_count": 2,
   "id": "5fa59b57",
   "metadata": {},
   "outputs": [
    {
     "name": "stderr",
     "output_type": "stream",
     "text": [
      "/Users/yongxinwang/.pyenv/versions/3.8/envs/Tao/lib/python3.8/site-packages/torch/utils/tensorboard/__init__.py:4: DeprecationWarning: distutils Version classes are deprecated. Use packaging.version instead.\n",
      "  if not hasattr(tensorboard, \"__version__\") or LooseVersion(\n"
     ]
    }
   ],
   "source": [
    "from tao import TD3"
   ]
  },
  {
   "cell_type": "code",
   "execution_count": 3,
   "id": "0deff312",
   "metadata": {},
   "outputs": [
    {
     "name": "stderr",
     "output_type": "stream",
     "text": [
      "pybullet build time: Jan  3 2023 09:40:04\n"
     ]
    },
    {
     "name": "stdout",
     "output_type": "stream",
     "text": [
      "current_dir=/Users/yongxinwang/.pyenv/versions/3.8/envs/Tao/lib/python3.8/site-packages/pybullet_envs/bullet\n",
      "urdf_root=/Users/yongxinwang/.pyenv/versions/3.8/envs/Tao/lib/python3.8/site-packages/pybullet_data\n"
     ]
    },
    {
     "name": "stderr",
     "output_type": "stream",
     "text": [
      "/Users/yongxinwang/.pyenv/versions/3.8/envs/Tao/lib/python3.8/site-packages/gym/spaces/box.py:84: UserWarning: \u001b[33mWARN: Box bound precision lowered by casting to float32\u001b[0m\n",
      "  logger.warn(f\"Box bound precision lowered by casting to {self.dtype}\")\n"
     ]
    },
    {
     "name": "stdout",
     "output_type": "stream",
     "text": [
      "global_step=336, episodic_return=-0.5409745573997498\n",
      "global_step=496, episodic_return=-0.28658702969551086\n",
      "global_step=832, episodic_return=-0.9253363013267517\n",
      "global_step=1068, episodic_return=-0.4731077551841736\n",
      "global_step=1536, episodic_return=-0.6024878621101379\n",
      "global_step=1643, episodic_return=-0.020795825868844986\n",
      "global_step=1977, episodic_return=-0.6197645664215088\n"
     ]
    }
   ],
   "source": [
    "agent = TD3(env_id=\"MinitaurBulletDuckEnv-v0\", track=True, capture_video=True, device=\"cuda\")\n",
    "agent.learn()"
   ]
  },
  {
   "cell_type": "code",
   "execution_count": null,
   "id": "2a11f657",
   "metadata": {},
   "outputs": [],
   "source": []
  }
 ],
 "metadata": {
  "kernelspec": {
   "display_name": "Python 3 (ipykernel)",
   "language": "python",
   "name": "python3"
  },
  "language_info": {
   "codemirror_mode": {
    "name": "ipython",
    "version": 3
   },
   "file_extension": ".py",
   "mimetype": "text/x-python",
   "name": "python",
   "nbconvert_exporter": "python",
   "pygments_lexer": "ipython3",
   "version": "3.8.16"
  }
 },
 "nbformat": 4,
 "nbformat_minor": 5
}
